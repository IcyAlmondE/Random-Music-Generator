{
 "cells": [
  {
   "cell_type": "code",
   "execution_count": 69,
   "metadata": {},
   "outputs": [],
   "source": [
    "import numpy as np\n",
    "import numpy.random as r"
   ]
  },
  {
   "cell_type": "code",
   "execution_count": 70,
   "metadata": {},
   "outputs": [],
   "source": [
    "# time signatures\n",
    "time_sig_common = [\"2/4\", \"3/4\", \"4/4\", \"6/8\", \"9/8\", \"12/8\"]\n",
    "time_sig_cva = [2, 3, 4, 3, 4.5, 6]\n"
   ]
  },
  {
   "cell_type": "code",
   "execution_count": 71,
   "metadata": {},
   "outputs": [],
   "source": [
    "# tempo\n",
    "tempo = [\"slow\", \"moderate\", \"fast\", \"very fast\"]\n",
    "tempo_va = [80, 100, 120, 150]\n"
   ]
  },
  {
   "cell_type": "code",
   "execution_count": 72,
   "metadata": {},
   "outputs": [],
   "source": [
    "# keys\n",
    "key = [\"A\", \"Bb\", \"B\", \"C\", \"Db\", \"D\", \"Eb\", \"E\", \"F\", \"Gb\", \"G\", \"Ab\"]\n"
   ]
  },
  {
   "cell_type": "code",
   "execution_count": 73,
   "metadata": {},
   "outputs": [],
   "source": [
    "# note & change\n",
    "start_note_A = [\"A3\", \"C#4\", \"E4\", \"A4\", \"C#5\", \"E5\", \"A5\"]\n",
    "note_A = [\"A3\", \"B3\", \"C#4\", \"D4\", \"E4\", \"F#4\", \"G#4\", \"A4\",\n",
    "          \"B4\", \"C#5\", \"D5\", \"E5\", \"F#5\", \"G#5\", \"A5\", \"B5\", \"C#6\"]  # 17 notes\n",
    "change = [-3, -2, -1, 0, 1, 2, 3]\n",
    "\n",
    "# tritone avoidance - pos = 3, 6, 10, 13\n",
    "change_tri = [-2, -1, 0, 1, 2]"
   ]
  },
  {
   "cell_type": "code",
   "execution_count": 74,
   "metadata": {},
   "outputs": [],
   "source": [
    "# duration\n",
    "d = [0.5, 0.5, 1, 1, 1, 1, 2, 2, 4]\n"
   ]
  },
  {
   "cell_type": "code",
   "execution_count": 75,
   "metadata": {},
   "outputs": [],
   "source": [
    "bar = 16\n",
    "ts = \"4/4\"\n",
    "ts_va = 4\n"
   ]
  },
  {
   "cell_type": "code",
   "execution_count": 76,
   "metadata": {},
   "outputs": [],
   "source": [
    "#archived\n",
    "\n",
    "# random 1 bar\n",
    "# n = []\n",
    "# n_dur = []\n",
    "# n_change = []\n",
    "# dur = 0\n",
    "# start = r.choice(start_note_A)\n",
    "# pos = note_A.index(start)\n",
    "# start_dur = r.choice(d)\n",
    "# n.append(start)\n",
    "# n_dur.append(start_dur)\n",
    "# dur += start_dur\n",
    "\n",
    "# n_total = []\n",
    "# n_total_dur = []\n",
    "\n",
    "# while dur < ts_va:\n",
    "#     note_change = r.choice(change)\n",
    "#     pos += note_change\n",
    "\n",
    "#     while pos > 13 or pos < 0:\n",
    "#         pos -= note_change\n",
    "#         note_change = r.choice(change)\n",
    "#         pos += note_change\n",
    "\n",
    "#     new_dur = r.choice(d)\n",
    "\n",
    "#     dur += new_dur\n",
    "\n",
    "#     if dur > ts_va:\n",
    "#         new_dur = ts_va - (dur - new_dur)\n",
    "\n",
    "#     n.append(note_A[pos])\n",
    "#     n_dur.append(new_dur)\n",
    "#     n_change.append(note_change)\n",
    "\n",
    "#     n_total.append(note_A[pos])\n",
    "#     n_total_dur.append(new_dur)\n"
   ]
  },
  {
   "cell_type": "code",
   "execution_count": 77,
   "metadata": {},
   "outputs": [],
   "source": [
    "# print(n)\n",
    "# print(n_dur)\n",
    "# print(n_change)\n"
   ]
  },
  {
   "cell_type": "code",
   "execution_count": 78,
   "metadata": {},
   "outputs": [],
   "source": [
    "#archived\n",
    "\n",
    "# random 16 bars\n",
    "# n_bar = []\n",
    "# n_bar_dur = []\n",
    "# n_bar_change = []\n",
    "\n",
    "# dur = 0\n",
    "# start = r.choice(start_note_A)\n",
    "# pos = note_A.index(start)\n",
    "# start_dur = r.choice(d)\n",
    "# n.append(start)\n",
    "# n_dur.append(start_dur)\n",
    "# dur += start_dur\n",
    "\n",
    "# for i in range(1, 16):\n",
    "#     # random 1 bar\n",
    "#     n = []\n",
    "#     n_dur = []\n",
    "#     n_change = []\n",
    "#     dur=0\n",
    "\n",
    "#     while dur < ts_va:\n",
    "#         note_change = r.choice(change)\n",
    "#         pos += note_change\n",
    "\n",
    "#         while pos > 13 or pos < 0:\n",
    "#             pos -= note_change\n",
    "#             note_change = r.choice(change)\n",
    "#             pos += note_change\n",
    "\n",
    "#         new_dur = r.choice(d)\n",
    "\n",
    "#         dur += new_dur\n",
    "\n",
    "#         if dur > ts_va:\n",
    "#             new_dur = ts_va - (dur - new_dur)\n",
    "\n",
    "#         n.append(note_A[pos])\n",
    "#         n_dur.append(new_dur)\n",
    "#         n_change.append(note_change)\n",
    "\n",
    "#         n_total.append(note_A[pos])\n",
    "#         n_total_dur.append(new_dur)\n",
    "\n",
    "#     # n_bar.append(n)\n",
    "#     # n_bar_dur.append(n_dur)\n",
    "#     # n_bar_change.append(n_change)\n"
   ]
  },
  {
   "cell_type": "code",
   "execution_count": 79,
   "metadata": {},
   "outputs": [],
   "source": [
    "# print(n_total)\n",
    "# print(n_total_dur)"
   ]
  },
  {
   "cell_type": "code",
   "execution_count": null,
   "metadata": {},
   "outputs": [],
   "source": []
  },
  {
   "cell_type": "code",
   "execution_count": 80,
   "metadata": {},
   "outputs": [],
   "source": [
    "# first bar\n",
    "n = []\n",
    "n_dur = []\n",
    "n_change = []\n",
    "dur = 0\n",
    "start = r.choice(start_note_A)\n",
    "pos = note_A.index(start)\n",
    "start_dur = r.choice(d)\n",
    "n.append(start)\n",
    "n_dur.append(start_dur)\n",
    "dur += start_dur\n",
    "\n",
    "n_total = []\n",
    "n_total_dur = []\n",
    "\n",
    "n_total.append(note_A[pos])\n",
    "n_total_dur.append(start_dur)\n",
    "\n",
    "while dur < ts_va:\n",
    "    if pos == 3 or pos == 6 or pos == 10 or pos == 13:\n",
    "        note_change = r.choice(change_tri)\n",
    "    else:\n",
    "        note_change = r.choice(change)\n",
    "    pos += note_change\n",
    "\n",
    "    while pos > 16 or pos < 0:\n",
    "        pos -= note_change\n",
    "        note_change = r.choice(change)\n",
    "        pos += note_change\n",
    "\n",
    "    new_dur = r.choice(d)\n",
    "\n",
    "    dur += new_dur\n",
    "\n",
    "    if dur > ts_va:\n",
    "        new_dur = ts_va - (dur - new_dur)\n",
    "\n",
    "    # n.append(note_A[pos])\n",
    "    # n_dur.append(new_dur)\n",
    "    # n_change.append(note_change)\n",
    "\n",
    "    n_total.append(note_A[pos])\n",
    "    n_total_dur.append(new_dur)\n",
    "\n",
    "# the rest\n",
    "\n",
    "for i in range(1, 16):\n",
    "    # random 1 bar\n",
    "    # n = []\n",
    "    # n_dur = []\n",
    "    # n_change = []\n",
    "    dur=0\n",
    "\n",
    "    while dur < ts_va:\n",
    "        if pos == 3 or pos == 6 or pos == 10 or pos == 13:\n",
    "            note_change = r.choice(change_tri)\n",
    "        else:\n",
    "            note_change = r.choice(change)\n",
    "        pos += note_change\n",
    "\n",
    "        while pos > 13 or pos < 0:\n",
    "            pos -= note_change\n",
    "            if pos == 3 or pos == 6 or pos == 10 or pos == 13:\n",
    "                note_change = r.choice(change_tri)\n",
    "            else:\n",
    "                note_change = r.choice(change)\n",
    "            pos += note_change\n",
    "\n",
    "        new_dur = r.choice(d)\n",
    "\n",
    "        dur += new_dur\n",
    "\n",
    "        if dur > ts_va:\n",
    "            new_dur = ts_va - (dur - new_dur)\n",
    "\n",
    "        # n.append(note_A[pos])\n",
    "        # n_dur.append(new_dur)\n",
    "        # n_change.append(note_change)\n",
    "\n",
    "        n_total.append(note_A[pos])\n",
    "        n_total_dur.append(new_dur)"
   ]
  },
  {
   "cell_type": "code",
   "execution_count": 81,
   "metadata": {},
   "outputs": [
    {
     "name": "stdout",
     "output_type": "stream",
     "text": [
      "['E5', 'G#5', 'B5', 'G#5', 'F#5', 'D5', 'C#5', 'D5', 'F#5', 'C#5', 'E5', 'B4', 'A4', 'D5', 'C#5', 'D5', 'E5', 'F#5', 'C#5', 'D5', 'B4', 'C#5', 'C#5', 'C#5', 'C#5', 'A4', 'F#4', 'G#4', 'G#4', 'E4', 'C#4', 'F#4', 'E4', 'E4', 'B3', 'A3', 'D4', 'B3', 'D4', 'F#4', 'B4', 'G#4', 'G#4', 'G#4', 'B4', 'A4', 'F#4', 'F#4', 'E4', 'A4', 'G#4', 'G#4', 'F#4', 'F#4']\n",
      "[2.0, 0.5, 1.5, 1.0, 1.0, 1.0, 1.0, 1.0, 2.0, 0.5, 0.5, 0.5, 2.0, 1.5, 4.0, 1.0, 1.0, 2.0, 0.5, 1.0, 1.0, 1.0, 0.5, 0.5, 2.0, 1.0, 0.5, 1.0, 1.0, 2.0, 0.5, 0.5, 1.0, 1.0, 1.0, 2.0, 2.0, 0.5, 0.5, 1.0, 2.0, 0.5, 3.5, 1.0, 1.0, 0.5, 1.0, 0.5, 2.0, 2.0, 2.0, 1.0, 0.5, 0.5]\n"
     ]
    }
   ],
   "source": [
    "print(n_total)\n",
    "print(n_total_dur)"
   ]
  },
  {
   "cell_type": "code",
   "execution_count": null,
   "metadata": {},
   "outputs": [],
   "source": []
  },
  {
   "cell_type": "code",
   "execution_count": 82,
   "metadata": {},
   "outputs": [
    {
     "data": {
      "text/plain": [
       "WindowsPath('C:/Program Files/MuseScore 3/bin/MuseScore3.exe')"
      ]
     },
     "execution_count": 82,
     "metadata": {},
     "output_type": "execute_result"
    }
   ],
   "source": [
    "from music21 import *\n",
    "us = environment.UserSettings()\n",
    "us['musicxmlPath'] = 'C:\\\\Program Files\\\\MuseScore 3\\\\bin\\\\MuseScore3.exe'\n",
    "us['musescoreDirectPNGPath'] = 'C:\\\\Program Files\\\\MuseScore 3\\\\bin\\\\MuseScore3.exe'\n",
    "us['musicxmlPath']\n"
   ]
  },
  {
   "cell_type": "code",
   "execution_count": null,
   "metadata": {},
   "outputs": [],
   "source": []
  },
  {
   "cell_type": "code",
   "execution_count": 83,
   "metadata": {},
   "outputs": [],
   "source": [
    "stream1 = stream.Stream()"
   ]
  },
  {
   "cell_type": "code",
   "execution_count": 84,
   "metadata": {},
   "outputs": [],
   "source": [
    "for i in range(len(n_total)):\n",
    "    stream1.append(note.Note(n_total[i], quarterLength=n_total_dur[i]))"
   ]
  },
  {
   "cell_type": "code",
   "execution_count": 85,
   "metadata": {},
   "outputs": [
    {
     "data": {
      "image/png": "[encoded data removed]",
      "text/plain": [
       "<IPython.core.display.Image object>"
      ]
     },
     "metadata": {
      "image/png": {
       "height": 314,
       "width": 708
      }
     },
     "output_type": "display_data"
    }
   ],
   "source": [
    "stream1.show()"
   ]
  },
  {
   "cell_type": "code",
   "execution_count": 86,
   "metadata": {},
   "outputs": [
    {
     "data": {
      "text/html": [
       "\n",
       "        <div id=\"midiPlayerDiv3813\"></div>\n",
       "        <link rel=\"stylesheet\" href=\"https://cuthbertLab.github.io/music21j/css/m21.css\">\n",
       "        \n",
       "        <script\n",
       "        src=\"https://cdnjs.cloudflare.com/ajax/libs/require.js/2.3.6/require.min.js\"\n",
       "        ></script>\n",
       "    \n",
       "        <script>\n",
       "        function midiPlayerDiv3813_play() {\n",
       "            const rq = require.config({\n",
       "                paths: {\n",
       "                    'music21': 'https://cuthbertLab.github.io/music21j/releases/music21.debug',\n",
       "                }\n",
       "            });\n",
       "            rq(['music21'], function(music21) {\n",
       "                mp = new music21.miditools.MidiPlayer();\n",
       "                mp.addPlayer(\"#midiPlayerDiv3813\");\n",
       "                mp.base64Load(\"data:audio/midi;base64,TVRoZAAAAAYAAQACJ2BNVHJrAAAAFAD/UQMHoSAA/1gEBAIYCM5g/y8ATVRyawAAAgIA/wMAAOAAQM5gkExagZ1AgEwAAJBQWqcwgFAAAJBTWvYQgFMAAJBQWs5ggFAAAJBOWs5ggE4AAJBKWs5ggEoAAJBJWs5ggEkAAJBKWs5ggEoAAJBOWoGdQIBOAACQSVqnMIBJAACQTFqnMIBMAACQR1qnMIBHAACQRVqBnUCARQAAkEpa9hCASgAAkElagrsAgEkAAJBKWs5ggEoAAJBMWs5ggEwAAJBOWoGdQIBOAACQSVqnMIBJAACQSlrOYIBKAACQR1rOYIBHAACQSVrOYIBJAACQSVqnMIBJAACQSVqnMIBJAACQSVqBnUCASQAAkEVazmCARQAAkEJapzCAQgAAkERazmCARAAAkERazmCARAAAkEBagZ1AgEAAAJA9WqcwgD0AAJBCWqcwgEIAAJBAWs5ggEAAAJBAWs5ggEAAAJA7Ws5ggDsAAJA5WoGdQIA5AACQPlqBnUCAPgAAkDtapzCAOwAAkD5apzCAPgAAkEJazmCAQgAAkEdagZ1AgEcAAJBEWqcwgEQAAJBEWoKTUIBEAACQRFrOYIBEAACQR1rOYIBHAACQRVqnMIBFAACQQlrOYIBCAACQQlqnMIBCAACQQFqBnUCAQAAAkEVagZ1AgEUAAJBEWoGdQIBEAACQRFrOYIBEAACQQlqnMIBCAACQQlqnMIBCAM5g/y8A\");\n",
       "            });\n",
       "        }\n",
       "        if (typeof require === 'undefined') {\n",
       "            setTimeout(midiPlayerDiv3813_play, 2000);\n",
       "        } else {\n",
       "            midiPlayerDiv3813_play();\n",
       "        }\n",
       "        </script>"
      ],
      "text/plain": [
       "<IPython.core.display.HTML object>"
      ]
     },
     "metadata": {},
     "output_type": "display_data"
    }
   ],
   "source": [
    "stream1.show('midi')"
   ]
  },
  {
   "cell_type": "code",
   "execution_count": 87,
   "metadata": {},
   "outputs": [],
   "source": [
    "# stream1.write('midi', 'test1.mid')"
   ]
  },
  {
   "cell_type": "code",
   "execution_count": 88,
   "metadata": {},
   "outputs": [],
   "source": [
    "# save_test1 = n_total\n",
    "# save_test1_dur = n_total_dur"
   ]
  },
  {
   "cell_type": "code",
   "execution_count": 89,
   "metadata": {},
   "outputs": [],
   "source": [
    "# print(save_test1)\n",
    "# print(save_test1_dur)"
   ]
  },
  {
   "cell_type": "code",
   "execution_count": null,
   "metadata": {},
   "outputs": [],
   "source": []
  }
 ],
 "metadata": {
  "kernelspec": {
   "display_name": "Python 3",
   "language": "python",
   "name": "python3"
  },
  "language_info": {
   "codemirror_mode": {
    "name": "ipython",
    "version": 3
   },
   "file_extension": ".py",
   "mimetype": "text/x-python",
   "name": "python",
   "nbconvert_exporter": "python",
   "pygments_lexer": "ipython3",
   "version": "3.10.11"
  },
  "orig_nbformat": 4
 },
 "nbformat": 4,
 "nbformat_minor": 2
}
