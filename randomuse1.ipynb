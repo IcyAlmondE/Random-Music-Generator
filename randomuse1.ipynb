{
 "cells": [
  {
   "cell_type": "code",
   "execution_count": 26,
   "metadata": {},
   "outputs": [],
   "source": [
    "import numpy as np\n",
    "import numpy.random as r"
   ]
  },
  {
   "cell_type": "code",
   "execution_count": 27,
   "metadata": {},
   "outputs": [],
   "source": [
    "# time signatures\n",
    "time_sig_common = [\"2/4\", \"3/4\", \"4/4\", \"6/8\", \"9/8\", \"12/8\"]\n",
    "time_sig_cva = [2, 3, 4, 3, 4.5, 6]\n"
   ]
  },
  {
   "cell_type": "code",
   "execution_count": 28,
   "metadata": {},
   "outputs": [],
   "source": [
    "# tempo\n",
    "tempo = [\"slow\", \"moderate\", \"fast\", \"very fast\"]\n",
    "tempo_va = [80, 100, 120, 150]\n"
   ]
  },
  {
   "cell_type": "code",
   "execution_count": 29,
   "metadata": {},
   "outputs": [],
   "source": [
    "# keys\n",
    "key = [\"A\", \"Bb\", \"B\", \"C\", \"Db\", \"D\", \"Eb\", \"E\", \"F\", \"Gb\", \"G\", \"Ab\"]\n"
   ]
  },
  {
   "cell_type": "code",
   "execution_count": 30,
   "metadata": {},
   "outputs": [],
   "source": [
    "# note & change\n",
    "start_note_A = [\"A3\", \"C#4\", \"E4\", \"A4\", \"C#5\", \"E5\", \"A5\"]\n",
    "note_A = [\"A3\", \"B3\", \"C#4\", \"D4\", \"E4\", \"F#4\", \"G#4\", \"A4\",\n",
    "          \"B4\", \"C#5\", \"D5\", \"E5\", \"F#5\", \"G#5\", \"A5\", \"B5\", \"C#6\"]  # 17 notes\n",
    "change = [-3, -2, -1, 0, 1, 2, 3]\n"
   ]
  },
  {
   "cell_type": "code",
   "execution_count": 31,
   "metadata": {},
   "outputs": [],
   "source": [
    "# duration\n",
    "d = [0.5, 0.5, 1, 1, 1, 1, 2, 2, 4]\n"
   ]
  },
  {
   "cell_type": "code",
   "execution_count": 32,
   "metadata": {},
   "outputs": [],
   "source": [
    "bar = 16\n",
    "ts = \"4/4\"\n",
    "ts_va = 4\n"
   ]
  },
  {
   "cell_type": "code",
   "execution_count": 33,
   "metadata": {},
   "outputs": [],
   "source": [
    "#archived\n",
    "\n",
    "# random 1 bar\n",
    "# n = []\n",
    "# n_dur = []\n",
    "# n_change = []\n",
    "# dur = 0\n",
    "# start = r.choice(start_note_A)\n",
    "# pos = note_A.index(start)\n",
    "# start_dur = r.choice(d)\n",
    "# n.append(start)\n",
    "# n_dur.append(start_dur)\n",
    "# dur += start_dur\n",
    "\n",
    "# n_total = []\n",
    "# n_total_dur = []\n",
    "\n",
    "# while dur < ts_va:\n",
    "#     note_change = r.choice(change)\n",
    "#     pos += note_change\n",
    "\n",
    "#     while pos > 13 or pos < 0:\n",
    "#         pos -= note_change\n",
    "#         note_change = r.choice(change)\n",
    "#         pos += note_change\n",
    "\n",
    "#     new_dur = r.choice(d)\n",
    "\n",
    "#     dur += new_dur\n",
    "\n",
    "#     if dur > ts_va:\n",
    "#         new_dur = ts_va - (dur - new_dur)\n",
    "\n",
    "#     n.append(note_A[pos])\n",
    "#     n_dur.append(new_dur)\n",
    "#     n_change.append(note_change)\n",
    "\n",
    "#     n_total.append(note_A[pos])\n",
    "#     n_total_dur.append(new_dur)\n"
   ]
  },
  {
   "cell_type": "code",
   "execution_count": 34,
   "metadata": {},
   "outputs": [],
   "source": [
    "# print(n)\n",
    "# print(n_dur)\n",
    "# print(n_change)\n"
   ]
  },
  {
   "cell_type": "code",
   "execution_count": 35,
   "metadata": {},
   "outputs": [],
   "source": [
    "#archived\n",
    "\n",
    "# random 16 bars\n",
    "# n_bar = []\n",
    "# n_bar_dur = []\n",
    "# n_bar_change = []\n",
    "\n",
    "# dur = 0\n",
    "# start = r.choice(start_note_A)\n",
    "# pos = note_A.index(start)\n",
    "# start_dur = r.choice(d)\n",
    "# n.append(start)\n",
    "# n_dur.append(start_dur)\n",
    "# dur += start_dur\n",
    "\n",
    "# for i in range(1, 16):\n",
    "#     # random 1 bar\n",
    "#     n = []\n",
    "#     n_dur = []\n",
    "#     n_change = []\n",
    "#     dur=0\n",
    "\n",
    "#     while dur < ts_va:\n",
    "#         note_change = r.choice(change)\n",
    "#         pos += note_change\n",
    "\n",
    "#         while pos > 13 or pos < 0:\n",
    "#             pos -= note_change\n",
    "#             note_change = r.choice(change)\n",
    "#             pos += note_change\n",
    "\n",
    "#         new_dur = r.choice(d)\n",
    "\n",
    "#         dur += new_dur\n",
    "\n",
    "#         if dur > ts_va:\n",
    "#             new_dur = ts_va - (dur - new_dur)\n",
    "\n",
    "#         n.append(note_A[pos])\n",
    "#         n_dur.append(new_dur)\n",
    "#         n_change.append(note_change)\n",
    "\n",
    "#         n_total.append(note_A[pos])\n",
    "#         n_total_dur.append(new_dur)\n",
    "\n",
    "#     # n_bar.append(n)\n",
    "#     # n_bar_dur.append(n_dur)\n",
    "#     # n_bar_change.append(n_change)\n"
   ]
  },
  {
   "cell_type": "code",
   "execution_count": 36,
   "metadata": {},
   "outputs": [],
   "source": [
    "# print(n_total)\n",
    "# print(n_total_dur)"
   ]
  },
  {
   "cell_type": "code",
   "execution_count": null,
   "metadata": {},
   "outputs": [],
   "source": []
  },
  {
   "cell_type": "code",
   "execution_count": 37,
   "metadata": {},
   "outputs": [],
   "source": [
    "# first bar\n",
    "n = []\n",
    "n_dur = []\n",
    "n_change = []\n",
    "dur = 0\n",
    "start = r.choice(start_note_A)\n",
    "pos = note_A.index(start)\n",
    "start_dur = r.choice(d)\n",
    "n.append(start)\n",
    "n_dur.append(start_dur)\n",
    "dur += start_dur\n",
    "\n",
    "n_total = []\n",
    "n_total_dur = []\n",
    "\n",
    "n_total.append(note_A[pos])\n",
    "n_total_dur.append(start_dur)\n",
    "\n",
    "while dur < ts_va:\n",
    "    note_change = r.choice(change)\n",
    "    pos += note_change\n",
    "\n",
    "    while pos > 16 or pos < 0:\n",
    "        pos -= note_change\n",
    "        note_change = r.choice(change)\n",
    "        pos += note_change\n",
    "\n",
    "    new_dur = r.choice(d)\n",
    "\n",
    "    dur += new_dur\n",
    "\n",
    "    if dur > ts_va:\n",
    "        new_dur = ts_va - (dur - new_dur)\n",
    "\n",
    "    # n.append(note_A[pos])\n",
    "    # n_dur.append(new_dur)\n",
    "    # n_change.append(note_change)\n",
    "\n",
    "    n_total.append(note_A[pos])\n",
    "    n_total_dur.append(new_dur)\n",
    "\n",
    "# the rest\n",
    "\n",
    "for i in range(1, 16):\n",
    "    # random 1 bar\n",
    "    # n = []\n",
    "    # n_dur = []\n",
    "    # n_change = []\n",
    "    dur=0\n",
    "\n",
    "    while dur < ts_va:\n",
    "        note_change = r.choice(change)\n",
    "        pos += note_change\n",
    "\n",
    "        while pos > 13 or pos < 0:\n",
    "            pos -= note_change\n",
    "            note_change = r.choice(change)\n",
    "            pos += note_change\n",
    "\n",
    "        new_dur = r.choice(d)\n",
    "\n",
    "        dur += new_dur\n",
    "\n",
    "        if dur > ts_va:\n",
    "            new_dur = ts_va - (dur - new_dur)\n",
    "\n",
    "        # n.append(note_A[pos])\n",
    "        # n_dur.append(new_dur)\n",
    "        # n_change.append(note_change)\n",
    "\n",
    "        n_total.append(note_A[pos])\n",
    "        n_total_dur.append(new_dur)"
   ]
  },
  {
   "cell_type": "code",
   "execution_count": 38,
   "metadata": {},
   "outputs": [
    {
     "name": "stdout",
     "output_type": "stream",
     "text": [
      "['E4', 'B3', 'C#4', 'F#4', 'F#4', 'F#4', 'G#4', 'C#5', 'G#4', 'E4', 'G#4', 'G#4', 'E4', 'A4', 'G#4', 'C#5', 'E5', 'G#5', 'G#5', 'G#5', 'D5', 'F#5', 'D5', 'E5', 'B4', 'C#5', 'F#5', 'F#5', 'D5', 'A4', 'C#5', 'E5', 'F#5', 'D5', 'C#5', 'D5', 'E5', 'D5', 'G#5', 'D5', 'A4', 'D5', 'C#5', 'B4', 'A4', 'D5', 'B4', 'E5', 'F#5', 'F#5', 'F#5', 'D5', 'C#5', 'D5', 'E5', 'E5', 'E5', 'G#5', 'E5']\n",
      "[0.5, 3.5, 2.0, 1.0, 1.0, 1.0, 1.0, 1.0, 0.5, 0.5, 0.5, 3.5, 2.0, 1.0, 1.0, 1.0, 0.5, 0.5, 1.0, 1.0, 0.5, 1.0, 2.0, 0.5, 0.5, 2.0, 1.5, 0.5, 1.0, 1.0, 1.5, 1.0, 1.0, 1.0, 1.0, 1.0, 1.0, 0.5, 1.0, 0.5, 0.5, 1.0, 2.0, 0.5, 1.0, 1.0, 2.0, 1.0, 0.5, 1.0, 0.5, 1.0, 0.5, 1.0, 1.0, 1.5, 0.5, 0.5, 3.0]\n"
     ]
    }
   ],
   "source": [
    "print(n_total)\n",
    "print(n_total_dur)"
   ]
  },
  {
   "cell_type": "code",
   "execution_count": null,
   "metadata": {},
   "outputs": [],
   "source": []
  },
  {
   "cell_type": "code",
   "execution_count": 39,
   "metadata": {},
   "outputs": [
    {
     "data": {
      "text/plain": [
       "WindowsPath('C:/Program Files/MuseScore 3/bin/MuseScore3.exe')"
      ]
     },
     "execution_count": 39,
     "metadata": {},
     "output_type": "execute_result"
    }
   ],
   "source": [
    "from music21 import *\n",
    "us = environment.UserSettings()\n",
    "us['musicxmlPath'] = 'C:\\\\Program Files\\\\MuseScore 3\\\\bin\\\\MuseScore3.exe'\n",
    "us['musescoreDirectPNGPath'] = 'C:\\\\Program Files\\\\MuseScore 3\\\\bin\\\\MuseScore3.exe'\n",
    "us['musicxmlPath']\n"
   ]
  },
  {
   "cell_type": "code",
   "execution_count": null,
   "metadata": {},
   "outputs": [],
   "source": []
  },
  {
   "cell_type": "code",
   "execution_count": 40,
   "metadata": {},
   "outputs": [],
   "source": [
    "stream1 = stream.Stream()"
   ]
  },
  {
   "cell_type": "code",
   "execution_count": 41,
   "metadata": {},
   "outputs": [],
   "source": [
    "for i in range(len(n_total)):\n",
    "    stream1.append(note.Note(n_total[i], quarterLength=n_total_dur[i]))"
   ]
  },
  {
   "cell_type": "code",
   "execution_count": 42,
   "metadata": {},
   "outputs": [
    {
     "data": {
      "image/png": "[encoded data removed]",
      "text/plain": [
       "<IPython.core.display.Image object>"
      ]
     },
     "metadata": {
      "image/png": {
       "height": 313,
       "width": 708
      }
     },
     "output_type": "display_data"
    }
   ],
   "source": [
    "stream1.show()"
   ]
  },
  {
   "cell_type": "code",
   "execution_count": 43,
   "metadata": {},
   "outputs": [
    {
     "data": {
      "text/html": [
       "\n",
       "        <div id=\"midiPlayerDiv1886\"></div>\n",
       "        <link rel=\"stylesheet\" href=\"https://cuthbertLab.github.io/music21j/css/m21.css\">\n",
       "        \n",
       "        <script\n",
       "        src=\"https://cdnjs.cloudflare.com/ajax/libs/require.js/2.3.6/require.min.js\"\n",
       "        ></script>\n",
       "    \n",
       "        <script>\n",
       "        function midiPlayerDiv1886_play() {\n",
       "            const rq = require.config({\n",
       "                paths: {\n",
       "                    'music21': 'https://cuthbertLab.github.io/music21j/releases/music21.debug',\n",
       "                }\n",
       "            });\n",
       "            rq(['music21'], function(music21) {\n",
       "                mp = new music21.miditools.MidiPlayer();\n",
       "                mp.addPlayer(\"#midiPlayerDiv1886\");\n",
       "                mp.base64Load(\"data:audio/midi;base64,TVRoZAAAAAYAAQACJ2BNVHJrAAAAFAD/UQMHoSAA/1gEBAIYCM5g/y8ATVRyawAAAioA/wMAAOAAQM5gkEBapzCAQAAAkDtagpNQgDsAAJA9WoGdQIA9AACQQlrOYIBCAACQQlrOYIBCAACQQlrOYIBCAACQRFrOYIBEAACQSVrOYIBJAACQRFqnMIBEAACQQFqnMIBAAACQRFqnMIBEAACQRFqCk1CARAAAkEBagZ1AgEAAAJBFWs5ggEUAAJBEWs5ggEQAAJBJWs5ggEkAAJBMWqcwgEwAAJBQWqcwgFAAAJBQWs5ggFAAAJBQWs5ggFAAAJBKWqcwgEoAAJBOWs5ggE4AAJBKWoGdQIBKAACQTFqnMIBMAACQR1qnMIBHAACQSVqBnUCASQAAkE5a9hCATgAAkE5apzCATgAAkEpazmCASgAAkEVazmCARQAAkEla9hCASQAAkExazmCATAAAkE5azmCATgAAkEpazmCASgAAkElazmCASQAAkEpazmCASgAAkExazmCATAAAkEpapzCASgAAkFBazmCAUAAAkEpapzCASgAAkEVapzCARQAAkEpazmCASgAAkElagZ1AgEkAAJBHWqcwgEcAAJBFWs5ggEUAAJBKWs5ggEoAAJBHWoGdQIBHAACQTFrOYIBMAACQTlqnMIBOAACQTlrOYIBOAACQTlqnMIBOAACQSlrOYIBKAACQSVqnMIBJAACQSlrOYIBKAACQTFrOYIBMAACQTFr2EIBMAACQTFqnMIBMAACQUFqnMIBQAACQTFqB7CCATADOYP8vAA==\");\n",
       "            });\n",
       "        }\n",
       "        if (typeof require === 'undefined') {\n",
       "            setTimeout(midiPlayerDiv1886_play, 2000);\n",
       "        } else {\n",
       "            midiPlayerDiv1886_play();\n",
       "        }\n",
       "        </script>"
      ],
      "text/plain": [
       "<IPython.core.display.HTML object>"
      ]
     },
     "metadata": {},
     "output_type": "display_data"
    }
   ],
   "source": [
    "stream1.show('midi')"
   ]
  },
  {
   "cell_type": "code",
   "execution_count": 44,
   "metadata": {},
   "outputs": [
    {
     "data": {
      "text/plain": [
       "'test1.mid'"
      ]
     },
     "execution_count": 44,
     "metadata": {},
     "output_type": "execute_result"
    }
   ],
   "source": [
    "# stream1.write('midi', 'test1.mid')"
   ]
  },
  {
   "cell_type": "code",
   "execution_count": 45,
   "metadata": {},
   "outputs": [],
   "source": [
    "# save_test1 = n_total\n",
    "# save_test1_dur = n_total_dur"
   ]
  },
  {
   "cell_type": "code",
   "execution_count": 46,
   "metadata": {},
   "outputs": [],
   "source": [
    "# print(save_test1)\n",
    "# print(save_test1_dur)"
   ]
  },
  {
   "cell_type": "code",
   "execution_count": null,
   "metadata": {},
   "outputs": [],
   "source": []
  }
 ],
 "metadata": {
  "kernelspec": {
   "display_name": "Python 3",
   "language": "python",
   "name": "python3"
  },
  "language_info": {
   "codemirror_mode": {
    "name": "ipython",
    "version": 3
   },
   "file_extension": ".py",
   "mimetype": "text/x-python",
   "name": "python",
   "nbconvert_exporter": "python",
   "pygments_lexer": "ipython3",
   "version": "3.10.11"
  },
  "orig_nbformat": 4
 },
 "nbformat": 4,
 "nbformat_minor": 2
}
